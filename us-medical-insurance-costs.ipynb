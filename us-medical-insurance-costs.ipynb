{
 "cells": [
  {
   "cell_type": "markdown",
   "metadata": {},
   "source": [
    "# U.S. Medical Insurance Costs"
   ]
  },
  {
   "cell_type": "markdown",
   "metadata": {},
   "source": [
    "## About this project\n",
    "This project is part of the Data Analyst Certificate program in CodeAcademy. The goal of the project is to use the Python skills we've been learning and apply them to an open-ended project using real data.\n",
    "\n",
    "At this point in the program we have not covered numpy or pandas so I will not use those tools to analyze the data for this project."
   ]
  },
  {
   "cell_type": "markdown",
   "metadata": {},
   "source": [
    "## Investigating the data\n",
    "The data for this project is stored in a csv file called insurance.csv. Lets take a look at what is inside the file."
   ]
  },
  {
   "cell_type": "markdown",
   "metadata": {},
   "source": [
    "### What fields are in the file?\n",
    "First lets look at the field names and the first few rows of data"
   ]
  },
  {
   "cell_type": "code",
   "execution_count": 1,
   "metadata": {},
   "outputs": [],
   "source": [
    "import csv\n",
    "import matplotlib.pyplot as plt"
   ]
  },
  {
   "cell_type": "code",
   "execution_count": 2,
   "metadata": {},
   "outputs": [
    {
     "name": "stdout",
     "output_type": "stream",
     "text": [
      "['age', 'sex', 'bmi', 'children', 'smoker', 'region', 'charges']\n",
      "['19', 'female', '27.9', '0', 'yes', 'southwest', '16884.924']\n",
      "['18', 'male', '33.77', '1', 'no', 'southeast', '1725.5523']\n",
      "['28', 'male', '33', '3', 'no', 'southeast', '4449.462']\n",
      "['33', 'male', '22.705', '0', 'no', 'northwest', '21984.47061']\n"
     ]
    }
   ],
   "source": [
    "# The first row will contain the fields in the file\n",
    "with open('insurance.csv') as insurance_file:\n",
    "    reader = csv.reader(insurance_file)\n",
    "    \n",
    "    for x in range(5):\n",
    "        print(next(reader))"
   ]
  },
  {
   "cell_type": "markdown",
   "metadata": {},
   "source": [
    "So it looks like we have 7 fields, for information about an individual including:\n",
    "* Age (*age* - int)\n",
    "* Sex (*sex* - female/male)\n",
    "* BMI (*bmi* - float)\n",
    "* Number of children (*children* - int)\n",
    "* Whether they are a smoker or not (*smoker* - yes/no)\n",
    "* The region in the US they come from (*region* - southwest, southeast, northwest, etc.)\n",
    "* The amount they pay in insurance costs - presumably annually? (*charges* - float)"
   ]
  },
  {
   "cell_type": "markdown",
   "metadata": {},
   "source": [
    "### How many rows are in the file?\n",
    "How many rows are in the file."
   ]
  },
  {
   "cell_type": "code",
   "execution_count": 3,
   "metadata": {},
   "outputs": [
    {
     "name": "stdout",
     "output_type": "stream",
     "text": [
      "There are 1339 lines in the file.\n"
     ]
    }
   ],
   "source": [
    "count = 0\n",
    "for line in open('insurance.csv'): count += 1\n",
    "\n",
    "print(\"There are {} lines in the file.\".format(count))"
   ]
  },
  {
   "cell_type": "markdown",
   "metadata": {},
   "source": [
    "### Are there any non-binary genders in the dataset?\n",
    "One question I have is whether there are any values for sex beyond \"male\" and \"female\"."
   ]
  },
  {
   "cell_type": "code",
   "execution_count": 4,
   "metadata": {},
   "outputs": [
    {
     "name": "stdout",
     "output_type": "stream",
     "text": [
      "The values for sex in the data set include:\n",
      "- female\n",
      "- male\n"
     ]
    }
   ],
   "source": [
    "# Lets get all of the unique values for sex\n",
    "possible_sexes = []\n",
    "\n",
    "with open('insurance.csv') as insurance_file:\n",
    "    csv_reader = csv.DictReader(insurance_file)\n",
    "        \n",
    "    for line in csv_reader:\n",
    "        if line['sex'] not in possible_sexes:\n",
    "            possible_sexes.append(line['sex'])\n",
    "\n",
    "print('The values for sex in the data set include:')\n",
    "for sex in possible_sexes:\n",
    "    print('- {}'.format(sex))\n"
   ]
  },
  {
   "cell_type": "markdown",
   "metadata": {},
   "source": [
    "### What are the possible regions in the dataset?\n",
    "Another question I have is what the names of all of the regions are."
   ]
  },
  {
   "cell_type": "code",
   "execution_count": 5,
   "metadata": {},
   "outputs": [
    {
     "name": "stdout",
     "output_type": "stream",
     "text": [
      "The values for region in the data set include:\n",
      "- southwest\n",
      "- southeast\n",
      "- northwest\n",
      "- northeast\n"
     ]
    }
   ],
   "source": [
    "# Lets get all of the unique values for region\n",
    "possible_regions = []\n",
    "\n",
    "with open('insurance.csv') as insurance_file:\n",
    "    csv_reader = csv.DictReader(insurance_file)\n",
    "    \n",
    "    for line in csv_reader:\n",
    "        if line['region'] not in possible_regions:\n",
    "            possible_regions.append(line['region'])\n",
    "\n",
    "print('The values for region in the data set include:')\n",
    "for region in possible_regions:\n",
    "    print('- {}'.format(region))"
   ]
  },
  {
   "cell_type": "markdown",
   "metadata": {},
   "source": [
    "### Are there any null vales i the dataset?\n",
    "One last question I have about the data is if there are any null values in the data set that we are going to have to deal with later."
   ]
  },
  {
   "cell_type": "code",
   "execution_count": 6,
   "metadata": {},
   "outputs": [],
   "source": [
    "\"\"\"\n",
    "We will start with a simple check to see if a value of None is \n",
    "found in any of the fields (meaning that there is a null value)\n",
    "\"\"\"\n",
    "with open('insurance.csv') as insurance_file:\n",
    "    reader = csv.reader(insurance_file)\n",
    "    \n",
    "    csv_reader = csv.DictReader(insurance_file)\n",
    "    \n",
    "    for line in csv_reader:\n",
    "        for field_value in line:\n",
    "            if field_value == None:\n",
    "                print('None found')"
   ]
  },
  {
   "cell_type": "markdown",
   "metadata": {},
   "source": [
    "## What do we want to find out about the data set?\n",
    "For this project I would like to find out which factor(s) have the biggest impact on insurance cost.\n",
    "\n",
    "I'd also like to know if any of the other factors are unduly affected by regionality.\n",
    "\n",
    "Some other basic questions include:\n",
    "* What is the average age of patients in the data set?\n",
    "* Where are the majority of the individuals from?\n",
    "* What is the average age for someone who has at least one child in the dataset?\n",
    "* Are there a similar proportion of males to females?\n",
    "* Is there a similar proportion of people in ages in 10 year buckets?"
   ]
  },
  {
   "cell_type": "markdown",
   "metadata": {},
   "source": [
    "### InsuranceData class\n",
    "We don't want to have to keep writing functional code for interacting with the data set."
   ]
  },
  {
   "cell_type": "code",
   "execution_count": 2,
   "metadata": {},
   "outputs": [],
   "source": [
    "class InsuranceData:\n",
    "    \"\"\"\n",
    "    Class for managing insurance data from file insurance.csv.\n",
    "    This class will let us manage the analyze the data from one place\n",
    "    \"\"\"\n",
    "    csv_reader = None\n",
    "    ages = []\n",
    "    regions = []\n",
    "    sex = []\n",
    "    children = []\n",
    "    ages_of_people_with_children = []\n",
    "    age_buckets = {10: '0-10',\n",
    "                   20: '11-20',\n",
    "                   30: '21-30',\n",
    "                   40: '31-40',\n",
    "                   50: '41-50',\n",
    "                   60: '51-60',\n",
    "                   70: '61-70',\n",
    "                   80: '71-80',\n",
    "                   90: '81-90',\n",
    "                   100: '91-100'}\n",
    "    people_by_region = {}\n",
    "    people_by_sex = {}\n",
    "    people_by_bucket = {}\n",
    "    percentage_by_bucket = {}\n",
    "    \n",
    "    def __init__(self):\n",
    "        with open('insurance.csv') as insurance_file:\n",
    "            reader = csv.reader(insurance_file)\n",
    "        \n",
    "            self.csv_reader = csv.DictReader(insurance_file)\n",
    "        \n",
    "            for line in self.csv_reader:\n",
    "                num_children = int(line['children'])\n",
    "                age = int(line['age'])\n",
    "                \n",
    "                self.ages.append(age)\n",
    "                self.regions.append(line['region'])\n",
    "                self.sex.append(line['sex'])\n",
    "                self.children.append(num_children)\n",
    "                \n",
    "                if num_children > 0:\n",
    "                    self.ages_of_people_with_children.append(age)\n",
    "                \n",
    "                for bucket_threshold, bucket_label in self.age_buckets.items():\n",
    "                    if age <= bucket_threshold:\n",
    "                        if bucket_label in self.people_by_bucket:\n",
    "                            self.people_by_bucket[bucket_label] += 1\n",
    "                        else:\n",
    "                            self.people_by_bucket[bucket_label] = 1\n",
    "                            \n",
    "                        break\n",
    "                        \n",
    "    \n",
    "    def get_average_age(self):\n",
    "        # Get the average age of all people in the data set\n",
    "        return sum(self.ages) / len(self.ages)\n",
    "    \n",
    "    def get_counts_by_region(self):\n",
    "        # Get the number of people from each region\n",
    "        self.people_by_region = {i:self.regions.count(i) for i in self.regions}\n",
    "        \n",
    "        return self.people_by_region\n",
    "    \n",
    "    def get_number_of_records(self):\n",
    "        # Get the total number of records\n",
    "        return len(self.ages)\n",
    "    \n",
    "    def get_average_age_of_people_with_children(self):\n",
    "        # Get the average age of people who have at least one child\n",
    "        return sum(self.ages_of_people_with_children) / len(self.ages_of_people_with_children)\n",
    "    \n",
    "    def get_number_of_people_with_children(self):\n",
    "        # Get the number of people who have children\n",
    "        return len(self.ages_of_people_with_children)\n",
    "    \n",
    "    def get_counts_by_sex(self):\n",
    "        # Get the number of people per sex\n",
    "        self.people_by_sex = {i:self.sex.count(i) for i in self.sex}\n",
    "        \n",
    "        return self.people_by_sex\n",
    "    \n",
    "    def get_counts_by_age_bucket(self):\n",
    "        # Gets the number of people in each age bucket\n",
    "        return self.people_by_bucket\n",
    "    \n",
    "    def get_proportion_by_age_bucket(self):\n",
    "        # Gets the percentage of people in each age bucket\n",
    "        self.get_counts_by_age_bucket()\n",
    "        \n",
    "        for bucket_label, people_in_bucket in self.people_by_bucket.items():\n",
    "            self.percentage_by_bucket[bucket_label] = (people_in_bucket / len(self.ages)) * 100\n",
    "        \n",
    "        return self.percentage_by_bucket\n",
    "        "
   ]
  },
  {
   "cell_type": "code",
   "execution_count": 3,
   "metadata": {},
   "outputs": [],
   "source": [
    "# Instantiate an Insuranceobject to work with insurance data\n",
    "insurance_data = InsuranceData()"
   ]
  },
  {
   "cell_type": "markdown",
   "metadata": {},
   "source": [
    "### What is the average age of people in the data set?\n",
    "We want to know the average age of all people."
   ]
  },
  {
   "cell_type": "code",
   "execution_count": 86,
   "metadata": {},
   "outputs": [
    {
     "name": "stdout",
     "output_type": "stream",
     "text": [
      "The average age of people in the data set is 39.20702541106129.\n",
      "The minimum age of people in the data set is 18.\n",
      "The maximum age of people in the data set is 64.\n"
     ]
    }
   ],
   "source": [
    "# Get average age of people in the data set and compare to min and max values\n",
    "average_age_of_people = insurance_data.get_average_age()\n",
    "\n",
    "print(\"The average age of people in the data set is {}.\".format(average_age_of_people))\n",
    "print(\"The minimum age of people in the data set is {}.\".format(min(insurance_data.ages)))\n",
    "print(\"The maximum age of people in the data set is {}.\".format(max(insurance_data.ages)))"
   ]
  },
  {
   "cell_type": "markdown",
   "metadata": {},
   "source": [
    "Based on the data we need to be careful not to make any assumptions about insurance costs of people under 18 or over 64."
   ]
  },
  {
   "cell_type": "markdown",
   "metadata": {},
   "source": [
    "### Where are the majority of people from?\n",
    "We want to know where the majority of people come from."
   ]
  },
  {
   "cell_type": "code",
   "execution_count": 85,
   "metadata": {},
   "outputs": [
    {
     "name": "stdout",
     "output_type": "stream",
     "text": [
      "{'southwest': 325, 'southeast': 364, 'northwest': 325, 'northeast': 324}\n",
      "1338\n"
     ]
    }
   ],
   "source": [
    "# Figure out how many records total, and how many people per region\n",
    "people_per_region = insurance_data.get_counts_by_region()\n",
    "total_number_of_records = insurance_data.get_number_of_records()\n",
    "\n",
    "print(people_per_region)\n",
    "print(total_number_of_records)"
   ]
  },
  {
   "cell_type": "markdown",
   "metadata": {},
   "source": [
    "The majority of people come from the southeast. 364 people out of a total of 1338 (about 27%) are from there. Overall the distribution of people per region is pretty equal."
   ]
  },
  {
   "cell_type": "markdown",
   "metadata": {},
   "source": [
    "### What is the average age of someone with at least one child?\n",
    "We were curious about the average age of people with children. This might be relevant in determining on how much of a factor having a child is on cost, vs age."
   ]
  },
  {
   "cell_type": "code",
   "execution_count": 92,
   "metadata": {},
   "outputs": [
    {
     "name": "stdout",
     "output_type": "stream",
     "text": [
      "The average age of people with children is 39.78010471204188. There are 764 people with children.\n"
     ]
    }
   ],
   "source": [
    "# Figure out how many records total, and average age of people with one child\n",
    "average_age_of_people_with_children = insurance_data.get_average_age_of_people_with_children()\n",
    "total_number_of_people_with_children = insurance_data.get_number_of_people_with_children()\n",
    "\n",
    "print(\"The average age of people with children is {}. There are {} people with children.\".format(average_age_of_people_with_children, total_number_of_people_with_children))"
   ]
  },
  {
   "cell_type": "markdown",
   "metadata": {},
   "source": [
    "Based on our previous analysis, the average age of people with children is about half a year older than the overall average. A bit more than half of the people in the data set have at least one child."
   ]
  },
  {
   "cell_type": "markdown",
   "metadata": {},
   "source": [
    "### Are there similar proportions of males to females?\n",
    "We want to know if the number of males is similar to the number of females."
   ]
  },
  {
   "cell_type": "code",
   "execution_count": 95,
   "metadata": {},
   "outputs": [
    {
     "name": "stdout",
     "output_type": "stream",
     "text": [
      "{'female': 662, 'male': 676}\n"
     ]
    }
   ],
   "source": [
    "people_per_sex = insurance_data.get_counts_by_sex()\n",
    "\n",
    "print(people_per_sex)"
   ]
  },
  {
   "cell_type": "markdown",
   "metadata": {},
   "source": [
    "Based on previous analysis, the percentage of females is about 49.5% and the percentage of males is about 50.5%."
   ]
  },
  {
   "cell_type": "markdown",
   "metadata": {},
   "source": [
    "### Is there a similar proportion of people in ten year buckets of ages?\n",
    "Is there a fairly even distribution of ages across the data set?"
   ]
  },
  {
   "cell_type": "code",
   "execution_count": 6,
   "metadata": {},
   "outputs": [
    {
     "name": "stdout",
     "output_type": "stream",
     "text": [
      "{'11-20': 166, '21-30': 278, '31-40': 257, '41-50': 281, '51-60': 265, '61-70': 91}\n",
      "{'11-20': 12.406576980568012, '21-30': 20.777279521674142, '31-40': 19.20777279521674, '41-50': 21.00149476831091, '51-60': 19.805680119581464, '61-70': 6.801195814648729}\n"
     ]
    }
   ],
   "source": [
    "people_per_age_bucket = insurance_data.get_counts_by_age_bucket()\n",
    "print(people_per_age_bucket)\n",
    "\n",
    "percentage_per_age_bucket = insurance_data.get_proportion_by_age_bucket()\n",
    "print(percentage_per_age_bucket)"
   ]
  },
  {
   "cell_type": "markdown",
   "metadata": {},
   "source": [
    "Based on the data the proportion of ages looks like:\n",
    "* 11-20: 12.41%\n",
    "* 21-20: 20.78%\n",
    "* 31-40: 19.21%\n",
    "* 41-50: 21.00%\n",
    "* 51-60: 19.81%\n",
    "* 61-70: 6.80%"
   ]
  },
  {
   "cell_type": "code",
   "execution_count": 7,
   "metadata": {},
   "outputs": [
    {
     "data": {
      "image/png": "[encoded data removed]",
      "text/plain": [
       "<Figure size 432x288 with 1 Axes>"
      ]
     },
     "metadata": {
      "needs_background": "light"
     },
     "output_type": "display_data"
    }
   ],
   "source": [
    "# Plot the percentage of people by age bucket\n",
    "plt.bar(percentage_per_age_bucket.keys(), percentage_per_age_bucket.values())\n",
    "plt.xlabel('Age buckets')\n",
    "plt.ylabel('% of users')\n",
    "plt.title('Percentage of people by age bucket')\n",
    "plt.show()"
   ]
  },
  {
   "cell_type": "code",
   "execution_count": 8,
   "metadata": {},
   "outputs": [
    {
     "data": {
      "image/png": "[encoded data removed]",
      "text/plain": [
       "<Figure size 432x288 with 1 Axes>"
      ]
     },
     "metadata": {
      "needs_background": "light"
     },
     "output_type": "display_data"
    }
   ],
   "source": [
    "# Plot the number of people by age bucket\n",
    "plt.bar(people_per_age_bucket.keys(), people_per_age_bucket.values())\n",
    "plt.xlabel('Age buckets')\n",
    "plt.ylabel('# of users')\n",
    "plt.title('Number of people by age bucket')\n",
    "plt.show()"
   ]
  },
  {
   "cell_type": "code",
   "execution_count": null,
   "metadata": {},
   "outputs": [],
   "source": []
  }
 ],
 "metadata": {
  "kernelspec": {
   "display_name": "Python 3",
   "language": "python",
   "name": "python3"
  },
  "language_info": {
   "codemirror_mode": {
    "name": "ipython",
    "version": 3
   },
   "file_extension": ".py",
   "mimetype": "text/x-python",
   "name": "python",
   "nbconvert_exporter": "python",
   "pygments_lexer": "ipython3",
   "version": "3.9.2"
  }
 },
 "nbformat": 4,
 "nbformat_minor": 4
}

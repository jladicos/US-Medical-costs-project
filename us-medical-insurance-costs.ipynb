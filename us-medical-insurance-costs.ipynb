{
 "cells": [
  {
   "cell_type": "markdown",
   "metadata": {},
   "source": [
    "# U.S. Medical Insurance Costs"
   ]
  },
  {
   "cell_type": "markdown",
   "metadata": {},
   "source": [
    "## About this project\n",
    "This project is part of the Data Analyst Certificate program in CodeAcademy. The goal of the project is to use the Python skills we've been learning and apply them to an open-ended project using real data.\n",
    "\n",
    "At this point in the program we have not covered numpy or pandas so I will not use those tools to analyze the data for this project."
   ]
  },
  {
   "cell_type": "markdown",
   "metadata": {},
   "source": [
    "## Investigating the data\n",
    "The data for this project is stored in a csv file called insurance.csv. Lets take a look at what is inside the file."
   ]
  },
  {
   "cell_type": "markdown",
   "metadata": {},
   "source": [
    "### What fields are in the file?\n",
    "First lets look at the field names and the first few rows of data"
   ]
  },
  {
   "cell_type": "code",
   "execution_count": 11,
   "metadata": {},
   "outputs": [],
   "source": [
    "import csv"
   ]
  },
  {
   "cell_type": "code",
   "execution_count": 14,
   "metadata": {},
   "outputs": [
    {
     "name": "stdout",
     "output_type": "stream",
     "text": [
      "['age', 'sex', 'bmi', 'children', 'smoker', 'region', 'charges']\n",
      "['19', 'female', '27.9', '0', 'yes', 'southwest', '16884.924']\n",
      "['18', 'male', '33.77', '1', 'no', 'southeast', '1725.5523']\n",
      "['28', 'male', '33', '3', 'no', 'southeast', '4449.462']\n",
      "['33', 'male', '22.705', '0', 'no', 'northwest', '21984.47061']\n"
     ]
    }
   ],
   "source": [
    "# The first row will contain the fields in the file\n",
    "with open('insurance.csv') as insurance_file:\n",
    "    reader = csv.reader(insurance_file)\n",
    "    \n",
    "    for x in range(5):\n",
    "        print(next(reader))"
   ]
  },
  {
   "cell_type": "markdown",
   "metadata": {},
   "source": [
    "So it looks like we have 7 fields, for information about an individual including:\n",
    "* Age (*age* - int)\n",
    "* Sex (*sex* - female/male)\n",
    "* BMI (*bmi* - float)\n",
    "* Number of children (*children* - int)\n",
    "* Whether they are a smoker or not (*smoker* - yes/no)\n",
    "* The region in the US they come from (*region* - southwest, southeast, northwest, etc.)\n",
    "* The amount they pay in insurance costs - presumably annually? (*charges* - float)"
   ]
  },
  {
   "cell_type": "markdown",
   "metadata": {},
   "source": [
    "### Are there any non-binary genders in the dataset?\n",
    "One question I have is whether there are any values for sex beyond \"male\" and \"female\"."
   ]
  },
  {
   "cell_type": "code",
   "execution_count": 22,
   "metadata": {},
   "outputs": [
    {
     "name": "stdout",
     "output_type": "stream",
     "text": [
      "The values for sex in the data set include:\n",
      "- female\n",
      "- male\n"
     ]
    }
   ],
   "source": [
    "# Lets get all of the unique values for sex\n",
    "possible_sexes = []\n",
    "\n",
    "with open('insurance.csv') as insurance_file:\n",
    "    csv_reader = csv.DictReader(insurance_file)\n",
    "        \n",
    "    for line in csv_reader:\n",
    "        if line['sex'] not in possible_sexes:\n",
    "            possible_sexes.append(line['sex'])\n",
    "\n",
    "print('The values for sex in the data set include:')\n",
    "for sex in possible_sexes:\n",
    "    print('- {}'.format(sex))\n"
   ]
  },
  {
   "cell_type": "markdown",
   "metadata": {},
   "source": [
    "### What are the possible regions in the dataset?\n",
    "Another question I have is what the names of all of the regions are."
   ]
  },
  {
   "cell_type": "code",
   "execution_count": 23,
   "metadata": {},
   "outputs": [
    {
     "name": "stdout",
     "output_type": "stream",
     "text": [
      "The values for region in the data set include:\n",
      "- southwest\n",
      "- southeast\n",
      "- northwest\n",
      "- northeast\n"
     ]
    }
   ],
   "source": [
    "# Lets get all of the unique values for region\n",
    "possible_regions = []\n",
    "\n",
    "with open('insurance.csv') as insurance_file:\n",
    "    csv_reader = csv.DictReader(insurance_file)\n",
    "    \n",
    "    for line in csv_reader:\n",
    "        if line['region'] not in possible_regions:\n",
    "            possible_regions.append(line['region'])\n",
    "\n",
    "print('The values for region in the data set include:')\n",
    "for region in possible_regions:\n",
    "    print('- {}'.format(region))"
   ]
  },
  {
   "cell_type": "markdown",
   "metadata": {},
   "source": [
    "### Are there any null vales i the dataset?\n",
    "One last question I have about the data is if there are any null values in the data set that we are going to have to deal with later."
   ]
  },
  {
   "cell_type": "code",
   "execution_count": 27,
   "metadata": {},
   "outputs": [],
   "source": [
    "\"\"\"\n",
    "We will start with a simple check to see if a value of None is \n",
    "found in any of the fields (meaning that there is a null value)\n",
    "\"\"\"\n",
    "with open('insurance.csv') as insurance_file:\n",
    "    reader = csv.reader(insurance_file)\n",
    "    \n",
    "    csv_reader = csv.DictReader(insurance_file)\n",
    "    \n",
    "    for line in csv_reader:\n",
    "        for field_value in line:\n",
    "            if field_value == None:\n",
    "                print('None found')"
   ]
  },
  {
   "cell_type": "code",
   "execution_count": null,
   "metadata": {},
   "outputs": [],
   "source": []
  }
 ],
 "metadata": {
  "kernelspec": {
   "display_name": "Python 3",
   "language": "python",
   "name": "python3"
  },
  "language_info": {
   "codemirror_mode": {
    "name": "ipython",
    "version": 3
   },
   "file_extension": ".py",
   "mimetype": "text/x-python",
   "name": "python",
   "nbconvert_exporter": "python",
   "pygments_lexer": "ipython3",
   "version": "3.9.2"
  }
 },
 "nbformat": 4,
 "nbformat_minor": 4
}
